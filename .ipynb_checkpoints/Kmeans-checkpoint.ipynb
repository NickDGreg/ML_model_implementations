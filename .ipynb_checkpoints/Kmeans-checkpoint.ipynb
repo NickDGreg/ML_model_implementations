{
 "cells": [
  {
   "cell_type": "code",
   "execution_count": 1,
   "metadata": {
    "collapsed": true
   },
   "outputs": [],
   "source": [
    "tableau20 = [(31, 119, 180), (174, 199, 232), (255, 127, 14), (255, 187, 120),    \n",
    "             (44, 160, 44), (152, 223, 138), (214, 39, 40), (255, 152, 150),    \n",
    "             (148, 103, 189), (197, 176, 213), (140, 86, 75), (196, 156, 148),    \n",
    "             (227, 119, 194), (247, 182, 210), (127, 127, 127), (199, 199, 199),    \n",
    "             (188, 189, 34), (219, 219, 141), (23, 190, 207), (158, 218, 229)]    \n",
    "  \n",
    "# Scale the RGB values to the [0, 1] range, which is the format matplotlib accepts.    \n",
    "for i in range(len(tableau20)):    \n",
    "    r, g, b = tableau20[i]    \n",
    "    tableau20[i] = (r / 255., g / 255., b / 255.)   "
   ]
  },
  {
   "cell_type": "code",
   "execution_count": 23,
   "metadata": {},
   "outputs": [],
   "source": [
    "import numpy as np\n",
    "import matplotlib.pyplot as plt\n",
    "from math import inf\n",
    "class KMeans:\n",
    "    def __init__(self, data, k):\n",
    "        self.k = k\n",
    "        self.data = np.array(data)\n",
    "        mean_ints = np.random.choice(len(data), self.k, replace=False)\n",
    "        self.cluster_means = self.data[mean_ints,:]\n",
    "        self.assignments = self.get_assignments()\n",
    "        \n",
    "    def get_assignments(self):\n",
    "        new_assignments = np.zeros(len(data))\n",
    "        for dataidx, datapoint in enumerate(self.data):\n",
    "            min_dist = inf\n",
    "            for idx, cluster_mean in enumerate(self.cluster_means):\n",
    "                if np.linalg.norm(cluster_mean-datapoint) < min_dist:\n",
    "                    min_dist = np.linalg.norm(cluster_mean-datapoint)\n",
    "                    new_assignments[dataidx] = idx\n",
    "        return new_assignments.astype(np.int)\n",
    "                \n",
    "    def train(self, max_iters=500):\n",
    "        changes = True\n",
    "        num_iters = 0\n",
    "        while changes and num_iters < max_iters:\n",
    "            num_iters += 1\n",
    "            changes = False\n",
    "            self.set_cluster_means()\n",
    "            new_assignments = self.get_assignments()\n",
    "            if list(new_assignments) != list(self.assignments):\n",
    "                self.assignments = new_assignments\n",
    "                changes = True\n",
    "    \n",
    "    def set_cluster_means(self):\n",
    "        number_assigned = np.zeros(self.k)\n",
    "        cluster_sums = np.zeros((self.k, len(self.data[0])))\n",
    "        for idx, assignment_idx in enumerate(self.assignments):\n",
    "            cluster_sums[assignment_idx, :] += self.data[idx, :]\n",
    "            number_assigned[assignment_idx] += 1\n",
    "        self.cluster_means = np.divide(cluster_sums, number_assigned.reshape(3,1))\n",
    "        \n",
    "    def plot(self):\n",
    "        colours = [tableau20[i] for i in self.assignments]\n",
    "        data = np.array(self.data)\n",
    "        plt.scatter(data[:,0], data[:,1], c=colours)\n",
    "        plt.scatter(self.cluster_means[:,0], self.cluster_means[:,1], 50, 'red', marker='*')\n",
    "        plt.show()"
   ]
  },
  {
   "cell_type": "code",
   "execution_count": 24,
   "metadata": {},
   "outputs": [
    {
     "data": {
      "image/png": "[encoded data removed]",
      "text/plain": [
       "<matplotlib.figure.Figure at 0x1952dc3d978>"
      ]
     },
     "metadata": {},
     "output_type": "display_data"
    },
    {
     "name": "stdout",
     "output_type": "stream",
     "text": [
      "1\n",
      "2\n",
      "3\n",
      "4\n",
      "no changes\n"
     ]
    },
    {
     "data": {
      "image/png": "[encoded data removed]",
      "text/plain": [
       "<matplotlib.figure.Figure at 0x1952eec2a58>"
      ]
     },
     "metadata": {},
     "output_type": "display_data"
    }
   ],
   "source": [
    "x = [12, 20, 28, 18, 29, 33, 24, 45, 45, 52, 51, 52, 55, 53, 55, 61, 64, 69, 72]\n",
    "y = [39, 36, 30, 52, 54, 46, 55, 59, 63, 70, 66, 63, 58, 23, 14, 8, 19, 7, 24]\n",
    "\n",
    "data = [[x[i], y[i]] for i in range(len(x))]\n",
    "data = np.array(data)\n",
    "kmeans = KMeans(data, 3)\n",
    "kmeans.plot()\n",
    "kmeans.train()\n",
    "kmeans.plot()"
   ]
  },
  {
   "cell_type": "code",
   "execution_count": 18,
   "metadata": {},
   "outputs": [
    {
     "name": "stdout",
     "output_type": "stream",
     "text": [
      "47.4341649025\n"
     ]
    }
   ],
   "source": [
    "a1 = np.array([51,66])\n",
    "a2 = np.array([12,39])\n",
    "print(np.linalg.norm(a1-a2))"
   ]
  },
  {
   "cell_type": "code",
   "execution_count": 5,
   "metadata": {},
   "outputs": [
    {
     "name": "stdout",
     "output_type": "stream",
     "text": [
      "[ 0.  0.  0.  0.  0.]\n"
     ]
    }
   ],
   "source": [
    "print(np.zeros(5))"
   ]
  },
  {
   "cell_type": "code",
   "execution_count": null,
   "metadata": {
    "collapsed": true
   },
   "outputs": [],
   "source": []
  }
 ],
 "metadata": {
  "kernelspec": {
   "display_name": "Python 3",
   "language": "python",
   "name": "python3"
  },
  "language_info": {
   "codemirror_mode": {
    "name": "ipython",
    "version": 3
   },
   "file_extension": ".py",
   "mimetype": "text/x-python",
   "name": "python",
   "nbconvert_exporter": "python",
   "pygments_lexer": "ipython3",
   "version": "3.5.3"
  }
 },
 "nbformat": 4,
 "nbformat_minor": 2
}
