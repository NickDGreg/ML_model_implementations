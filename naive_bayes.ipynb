{
 "cells": [
  {
   "cell_type": "code",
   "execution_count": 54,
   "metadata": {
    "collapsed": true
   },
   "outputs": [],
   "source": [
    "from copy import deepcopy\n",
    "from collections import Counter\n",
    "from math import log"
   ]
  },
  {
   "cell_type": "code",
   "execution_count": 61,
   "metadata": {},
   "outputs": [],
   "source": [
    "class NaiveBayes:\n",
    "    def __init__(self, X, y):\n",
    "        self.X = X\n",
    "        self.y = y\n",
    "        self.vocab = None\n",
    "        self.class_vocabs = None\n",
    "        self.size_vocab = 0\n",
    "        self.empty_prediction_dict = None\n",
    "    \n",
    "    def train(self):\n",
    "        \"\"\"X is list of list of words. y is the class labels corresponding to each word list\"\"\"\n",
    "        self.vocab = Counter()\n",
    "        self.class_vocabs = {classname:Counter() for classname in set(self.y)}\n",
    "        for idx, wordlist in enumerate(self.X):\n",
    "            word_counts = Counter(wordlist)\n",
    "            self.class_vocabs[self.y[idx]] += word_counts\n",
    "            self.vocab += word_counts\n",
    "        self.size_vocab = len(self.vocab)\n",
    "        self.empty_prediction_dict = {key:0 for key in self.class_vocabs.keys()}\n",
    "        \n",
    "    def predict(self, test_documents):\n",
    "        \"\"\"list of dictionaries of lists of word counts. Each requires a prediction\"\"\"\n",
    "        predictions = []\n",
    "        for idx, document in enumerate(test_documents):\n",
    "            predictions.append(deepcopy(self.empty_prediction_dict))\n",
    "            for classname in self.empty_prediction_dict.keys():\n",
    "                total_class_word_count = sum(self.class_vocabs[classname].values())\n",
    "                for word in document:\n",
    "                    if word in self.class_vocabs[classname]:\n",
    "                        word_freq = self.class_vocabs[classname][word] + 1\n",
    "                    else:\n",
    "                        word_freq = 1\n",
    "                    predictions[idx][classname] += log(word_freq / total_class_word_count + self.size_vocab)\n",
    "        ml_predictions = [] #maximum likelihood predictions\n",
    "        for prediction in predictions:\n",
    "            ml_predictions.append(max(prediction, key=prediction.get))\n",
    "        return ml_predictions, predictions"
   ]
  },
  {
   "cell_type": "code",
   "execution_count": 62,
   "metadata": {
    "collapsed": true
   },
   "outputs": [],
   "source": [
    "X = [['lion', 'tiger', 'jungle', 'wonderful'], ['habitat', 'lion', 'savanah'], ['jungle', 'tiger', 'lion'],\n",
    "     ['liars', 'fools', 'morons', 'debate'], ['liars', 'liars', 'liars', 'suits'], ['debate', 'laws', 'fools'],\n",
    "     ['stars', 'light', 'rocket', 'stars', 'lightyears'], ['rocket', 'rocket', 'wonderful', 'liars'], ['sun', 'jungle', 'stars']]\n",
    "y = ['nature', 'nature', 'nature', 'politics', 'politics', 'politics', 'space', 'space', 'space']\n",
    "test = [['liars', 'fools', 'green chairs', 'argue', 'morons'], ['sun', 'lightyears', 'jungle', 'rocket', 'rocket'], \n",
    "        ['jungle', 'tiger'], ['lion', 'lion', 'wonderful', 'teeth']]"
   ]
  },
  {
   "cell_type": "code",
   "execution_count": 63,
   "metadata": {},
   "outputs": [
    {
     "name": "stdout",
     "output_type": "stream",
     "text": [
      "['politics', 'space', 'nature', 'nature']\n",
      "\n",
      "[{'nature': 14.195392317543071, 'politics': 14.229674020915954, 'space': 14.195382836403208}, {'nature': 14.20702035553819, 'politics': 14.192733450157892, 'space': 14.234171416831378}, {'nature': 5.701413003007467, 'politics': 5.677093380063157, 'space': 5.681072848351988}, {'nature': 11.396928259768988, 'politics': 11.354186760126314, 'space': 11.357279507052805}]\n"
     ]
    }
   ],
   "source": [
    "model = NaiveBayes(X, y)\n",
    "model.train()\n",
    "class_predictions, all_predictions = model.predict(test)\n",
    "print(class_predictions)\n",
    "print()\n",
    "print(all_predictions)"
   ]
  },
  {
   "cell_type": "code",
   "execution_count": 17,
   "metadata": {
    "collapsed": true
   },
   "outputs": [],
   "source": [
    "#counters are the way to create a sum count of names\n",
    "testcounter = ['a', 'a', 'a', 'c', 'd', 'c', 'b']\n",
    "othertest = ['e', 'a', 'v', 'b', 'b']\n",
    "lettercount = Counter(testcounter)\n",
    "secondlettercount = Counter(othertest)"
   ]
  },
  {
   "cell_type": "code",
   "execution_count": 30,
   "metadata": {},
   "outputs": [
    {
     "name": "stdout",
     "output_type": "stream",
     "text": [
      "a\n",
      "a\n"
     ]
    }
   ],
   "source": [
    "#getting max from dictionary options\n",
    "print(max(total, key=total.get))\n",
    "print(max(total.keys(), key=total.get))\n",
    "print(max(total.keys(), key=(lambda key: total[key])))\n",
    "print(max(total.keys(), key=(lambda elephant: total[elephant])))"
   ]
  }
 ],
 "metadata": {
  "kernelspec": {
   "display_name": "Python 3",
   "language": "python",
   "name": "python3"
  },
  "language_info": {
   "codemirror_mode": {
    "name": "ipython",
    "version": 3
   },
   "file_extension": ".py",
   "mimetype": "text/x-python",
   "name": "python",
   "nbconvert_exporter": "python",
   "pygments_lexer": "ipython3",
   "version": "3.5.3"
  }
 },
 "nbformat": 4,
 "nbformat_minor": 2
}
